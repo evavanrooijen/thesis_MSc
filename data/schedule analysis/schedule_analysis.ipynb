{
  "nbformat": 4,
  "nbformat_minor": 0,
  "metadata": {
    "colab": {
      "provenance": []
    },
    "kernelspec": {
      "name": "python3",
      "display_name": "Python 3"
    },
    "language_info": {
      "name": "python"
    }
  },
  "cells": [
    {
      "cell_type": "code",
      "source": [
        "import pandas as pd\n",
        "import numpy as np"
      ],
      "metadata": {
        "id": "rwkHZHGkHwZu"
      },
      "execution_count": 46,
      "outputs": []
    },
    {
      "cell_type": "code",
      "execution_count": 10,
      "metadata": {
        "id": "5PvMBNinHVFv"
      },
      "outputs": [],
      "source": [
        "path = '/content/schedule_Q1_2023_4D_2B_incl_FTE.csv'"
      ]
    },
    {
      "cell_type": "code",
      "source": [
        "df = pd.read_csv(path, delimiter=',', header=None)\n",
        "df.columns = ['RSE_ID', 'SCE_ID', 'STATUS', 'begin_date', 'DPT_ID', 'end_date', ' LAST_UPDATED_AT', 'AVAILABILITY']"
      ],
      "metadata": {
        "id": "7Vwr7OHBHxQm"
      },
      "execution_count": 12,
      "outputs": []
    },
    {
      "cell_type": "markdown",
      "source": [
        "# preprocessing"
      ],
      "metadata": {
        "id": "IVhyPKRsKQh-"
      }
    },
    {
      "cell_type": "code",
      "source": [
        "df.isna().sum()"
      ],
      "metadata": {
        "colab": {
          "base_uri": "https://localhost:8080/"
        },
        "id": "OMrimRJiH0p2",
        "outputId": "c23ce4b9-4073-4b76-d369-38982337b8cd"
      },
      "execution_count": 14,
      "outputs": [
        {
          "output_type": "execute_result",
          "data": {
            "text/plain": [
              "RSE_ID              852\n",
              "SCE_ID                0\n",
              "STATUS                0\n",
              "begin_date            0\n",
              "DPT_ID                0\n",
              "end_date              0\n",
              " LAST_UPDATED_AT      0\n",
              "AVAILABILITY        853\n",
              "dtype: int64"
            ]
          },
          "metadata": {},
          "execution_count": 14
        }
      ]
    },
    {
      "cell_type": "code",
      "source": [
        "df.dropna(inplace=True)"
      ],
      "metadata": {
        "id": "DXd0hm56JCyL"
      },
      "execution_count": 16,
      "outputs": []
    },
    {
      "cell_type": "code",
      "source": [
        "df"
      ],
      "metadata": {
        "colab": {
          "base_uri": "https://localhost:8080/",
          "height": 424
        },
        "id": "3UM8kBUiIU-1",
        "outputId": "c7ff6367-f47e-4d9a-f035-356d864a7df7"
      },
      "execution_count": 17,
      "outputs": [
        {
          "output_type": "execute_result",
          "data": {
            "text/plain": [
              "            RSE_ID     SCE_ID  STATUS               begin_date  DPT_ID  \\\n",
              "1      680677632.0  664653775  AGREED  2023-01-11 09:00:00.000  634342   \n",
              "4      623072039.0  664653775  AGREED  2023-01-01 15:30:00.000  634342   \n",
              "5      623072039.0  664653775  AGREED  2023-01-01 15:30:00.000  634342   \n",
              "6      623072039.0  664653775  AGREED  2023-01-01 15:30:00.000  634342   \n",
              "7      623072039.0  664653775  AGREED  2023-01-01 15:30:00.000  634342   \n",
              "...            ...        ...     ...                      ...     ...   \n",
              "47447  636051025.0  664653775  AGREED  2023-01-20 07:30:00.000  634342   \n",
              "47448  636051025.0  664653775  AGREED  2023-01-20 07:30:00.000  634342   \n",
              "47449  636051025.0  664653775  AGREED  2023-01-20 07:30:00.000  634342   \n",
              "47450  636051025.0  664653775  AGREED  2023-01-20 07:30:00.000  634342   \n",
              "47451  636051025.0  664653775  AGREED  2023-01-20 07:30:00.000  634342   \n",
              "\n",
              "                      end_date          LAST_UPDATED_AT  AVAILABILITY  \n",
              "1      2023-01-11 17:30:00.000  2022-09-27 15:32:11.063      0.000694  \n",
              "4      2023-01-01 23:30:00.000  2022-09-27 15:34:55.340      0.000000  \n",
              "5      2023-01-01 23:30:00.000  2022-09-27 15:34:55.340      0.000000  \n",
              "6      2023-01-01 23:30:00.000  2022-09-27 15:34:55.340      0.000000  \n",
              "7      2023-01-01 23:30:00.000  2022-09-27 15:34:55.340      0.000000  \n",
              "...                        ...                      ...           ...  \n",
              "47447  2023-01-20 16:00:00.000  2022-12-30 10:15:29.060      0.000000  \n",
              "47448  2023-01-20 16:00:00.000  2022-12-30 10:15:29.060      0.000000  \n",
              "47449  2023-01-20 16:00:00.000  2022-12-30 10:15:29.060      0.000000  \n",
              "47450  2023-01-20 16:00:00.000  2022-12-30 10:15:29.060      0.000000  \n",
              "47451  2023-01-20 16:00:00.000  2022-12-30 10:15:29.060      0.000000  \n",
              "\n",
              "[46600 rows x 8 columns]"
            ],
            "text/html": [
              "\n",
              "  <div id=\"df-66b1fa24-cdc9-452b-896b-183dc357c464\">\n",
              "    <div class=\"colab-df-container\">\n",
              "      <div>\n",
              "<style scoped>\n",
              "    .dataframe tbody tr th:only-of-type {\n",
              "        vertical-align: middle;\n",
              "    }\n",
              "\n",
              "    .dataframe tbody tr th {\n",
              "        vertical-align: top;\n",
              "    }\n",
              "\n",
              "    .dataframe thead th {\n",
              "        text-align: right;\n",
              "    }\n",
              "</style>\n",
              "<table border=\"1\" class=\"dataframe\">\n",
              "  <thead>\n",
              "    <tr style=\"text-align: right;\">\n",
              "      <th></th>\n",
              "      <th>RSE_ID</th>\n",
              "      <th>SCE_ID</th>\n",
              "      <th>STATUS</th>\n",
              "      <th>begin_date</th>\n",
              "      <th>DPT_ID</th>\n",
              "      <th>end_date</th>\n",
              "      <th>LAST_UPDATED_AT</th>\n",
              "      <th>AVAILABILITY</th>\n",
              "    </tr>\n",
              "  </thead>\n",
              "  <tbody>\n",
              "    <tr>\n",
              "      <th>1</th>\n",
              "      <td>680677632.0</td>\n",
              "      <td>664653775</td>\n",
              "      <td>AGREED</td>\n",
              "      <td>2023-01-11 09:00:00.000</td>\n",
              "      <td>634342</td>\n",
              "      <td>2023-01-11 17:30:00.000</td>\n",
              "      <td>2022-09-27 15:32:11.063</td>\n",
              "      <td>0.000694</td>\n",
              "    </tr>\n",
              "    <tr>\n",
              "      <th>4</th>\n",
              "      <td>623072039.0</td>\n",
              "      <td>664653775</td>\n",
              "      <td>AGREED</td>\n",
              "      <td>2023-01-01 15:30:00.000</td>\n",
              "      <td>634342</td>\n",
              "      <td>2023-01-01 23:30:00.000</td>\n",
              "      <td>2022-09-27 15:34:55.340</td>\n",
              "      <td>0.000000</td>\n",
              "    </tr>\n",
              "    <tr>\n",
              "      <th>5</th>\n",
              "      <td>623072039.0</td>\n",
              "      <td>664653775</td>\n",
              "      <td>AGREED</td>\n",
              "      <td>2023-01-01 15:30:00.000</td>\n",
              "      <td>634342</td>\n",
              "      <td>2023-01-01 23:30:00.000</td>\n",
              "      <td>2022-09-27 15:34:55.340</td>\n",
              "      <td>0.000000</td>\n",
              "    </tr>\n",
              "    <tr>\n",
              "      <th>6</th>\n",
              "      <td>623072039.0</td>\n",
              "      <td>664653775</td>\n",
              "      <td>AGREED</td>\n",
              "      <td>2023-01-01 15:30:00.000</td>\n",
              "      <td>634342</td>\n",
              "      <td>2023-01-01 23:30:00.000</td>\n",
              "      <td>2022-09-27 15:34:55.340</td>\n",
              "      <td>0.000000</td>\n",
              "    </tr>\n",
              "    <tr>\n",
              "      <th>7</th>\n",
              "      <td>623072039.0</td>\n",
              "      <td>664653775</td>\n",
              "      <td>AGREED</td>\n",
              "      <td>2023-01-01 15:30:00.000</td>\n",
              "      <td>634342</td>\n",
              "      <td>2023-01-01 23:30:00.000</td>\n",
              "      <td>2022-09-27 15:34:55.340</td>\n",
              "      <td>0.000000</td>\n",
              "    </tr>\n",
              "    <tr>\n",
              "      <th>...</th>\n",
              "      <td>...</td>\n",
              "      <td>...</td>\n",
              "      <td>...</td>\n",
              "      <td>...</td>\n",
              "      <td>...</td>\n",
              "      <td>...</td>\n",
              "      <td>...</td>\n",
              "      <td>...</td>\n",
              "    </tr>\n",
              "    <tr>\n",
              "      <th>47447</th>\n",
              "      <td>636051025.0</td>\n",
              "      <td>664653775</td>\n",
              "      <td>AGREED</td>\n",
              "      <td>2023-01-20 07:30:00.000</td>\n",
              "      <td>634342</td>\n",
              "      <td>2023-01-20 16:00:00.000</td>\n",
              "      <td>2022-12-30 10:15:29.060</td>\n",
              "      <td>0.000000</td>\n",
              "    </tr>\n",
              "    <tr>\n",
              "      <th>47448</th>\n",
              "      <td>636051025.0</td>\n",
              "      <td>664653775</td>\n",
              "      <td>AGREED</td>\n",
              "      <td>2023-01-20 07:30:00.000</td>\n",
              "      <td>634342</td>\n",
              "      <td>2023-01-20 16:00:00.000</td>\n",
              "      <td>2022-12-30 10:15:29.060</td>\n",
              "      <td>0.000000</td>\n",
              "    </tr>\n",
              "    <tr>\n",
              "      <th>47449</th>\n",
              "      <td>636051025.0</td>\n",
              "      <td>664653775</td>\n",
              "      <td>AGREED</td>\n",
              "      <td>2023-01-20 07:30:00.000</td>\n",
              "      <td>634342</td>\n",
              "      <td>2023-01-20 16:00:00.000</td>\n",
              "      <td>2022-12-30 10:15:29.060</td>\n",
              "      <td>0.000000</td>\n",
              "    </tr>\n",
              "    <tr>\n",
              "      <th>47450</th>\n",
              "      <td>636051025.0</td>\n",
              "      <td>664653775</td>\n",
              "      <td>AGREED</td>\n",
              "      <td>2023-01-20 07:30:00.000</td>\n",
              "      <td>634342</td>\n",
              "      <td>2023-01-20 16:00:00.000</td>\n",
              "      <td>2022-12-30 10:15:29.060</td>\n",
              "      <td>0.000000</td>\n",
              "    </tr>\n",
              "    <tr>\n",
              "      <th>47451</th>\n",
              "      <td>636051025.0</td>\n",
              "      <td>664653775</td>\n",
              "      <td>AGREED</td>\n",
              "      <td>2023-01-20 07:30:00.000</td>\n",
              "      <td>634342</td>\n",
              "      <td>2023-01-20 16:00:00.000</td>\n",
              "      <td>2022-12-30 10:15:29.060</td>\n",
              "      <td>0.000000</td>\n",
              "    </tr>\n",
              "  </tbody>\n",
              "</table>\n",
              "<p>46600 rows × 8 columns</p>\n",
              "</div>\n",
              "      <button class=\"colab-df-convert\" onclick=\"convertToInteractive('df-66b1fa24-cdc9-452b-896b-183dc357c464')\"\n",
              "              title=\"Convert this dataframe to an interactive table.\"\n",
              "              style=\"display:none;\">\n",
              "        \n",
              "  <svg xmlns=\"http://www.w3.org/2000/svg\" height=\"24px\"viewBox=\"0 0 24 24\"\n",
              "       width=\"24px\">\n",
              "    <path d=\"M0 0h24v24H0V0z\" fill=\"none\"/>\n",
              "    <path d=\"M18.56 5.44l.94 2.06.94-2.06 2.06-.94-2.06-.94-.94-2.06-.94 2.06-2.06.94zm-11 1L8.5 8.5l.94-2.06 2.06-.94-2.06-.94L8.5 2.5l-.94 2.06-2.06.94zm10 10l.94 2.06.94-2.06 2.06-.94-2.06-.94-.94-2.06-.94 2.06-2.06.94z\"/><path d=\"M17.41 7.96l-1.37-1.37c-.4-.4-.92-.59-1.43-.59-.52 0-1.04.2-1.43.59L10.3 9.45l-7.72 7.72c-.78.78-.78 2.05 0 2.83L4 21.41c.39.39.9.59 1.41.59.51 0 1.02-.2 1.41-.59l7.78-7.78 2.81-2.81c.8-.78.8-2.07 0-2.86zM5.41 20L4 18.59l7.72-7.72 1.47 1.35L5.41 20z\"/>\n",
              "  </svg>\n",
              "      </button>\n",
              "      \n",
              "  <style>\n",
              "    .colab-df-container {\n",
              "      display:flex;\n",
              "      flex-wrap:wrap;\n",
              "      gap: 12px;\n",
              "    }\n",
              "\n",
              "    .colab-df-convert {\n",
              "      background-color: #E8F0FE;\n",
              "      border: none;\n",
              "      border-radius: 50%;\n",
              "      cursor: pointer;\n",
              "      display: none;\n",
              "      fill: #1967D2;\n",
              "      height: 32px;\n",
              "      padding: 0 0 0 0;\n",
              "      width: 32px;\n",
              "    }\n",
              "\n",
              "    .colab-df-convert:hover {\n",
              "      background-color: #E2EBFA;\n",
              "      box-shadow: 0px 1px 2px rgba(60, 64, 67, 0.3), 0px 1px 3px 1px rgba(60, 64, 67, 0.15);\n",
              "      fill: #174EA6;\n",
              "    }\n",
              "\n",
              "    [theme=dark] .colab-df-convert {\n",
              "      background-color: #3B4455;\n",
              "      fill: #D2E3FC;\n",
              "    }\n",
              "\n",
              "    [theme=dark] .colab-df-convert:hover {\n",
              "      background-color: #434B5C;\n",
              "      box-shadow: 0px 1px 3px 1px rgba(0, 0, 0, 0.15);\n",
              "      filter: drop-shadow(0px 1px 2px rgba(0, 0, 0, 0.3));\n",
              "      fill: #FFFFFF;\n",
              "    }\n",
              "  </style>\n",
              "\n",
              "      <script>\n",
              "        const buttonEl =\n",
              "          document.querySelector('#df-66b1fa24-cdc9-452b-896b-183dc357c464 button.colab-df-convert');\n",
              "        buttonEl.style.display =\n",
              "          google.colab.kernel.accessAllowed ? 'block' : 'none';\n",
              "\n",
              "        async function convertToInteractive(key) {\n",
              "          const element = document.querySelector('#df-66b1fa24-cdc9-452b-896b-183dc357c464');\n",
              "          const dataTable =\n",
              "            await google.colab.kernel.invokeFunction('convertToInteractive',\n",
              "                                                     [key], {});\n",
              "          if (!dataTable) return;\n",
              "\n",
              "          const docLinkHtml = 'Like what you see? Visit the ' +\n",
              "            '<a target=\"_blank\" href=https://colab.research.google.com/notebooks/data_table.ipynb>data table notebook</a>'\n",
              "            + ' to learn more about interactive tables.';\n",
              "          element.innerHTML = '';\n",
              "          dataTable['output_type'] = 'display_data';\n",
              "          await google.colab.output.renderOutput(dataTable, element);\n",
              "          const docLink = document.createElement('div');\n",
              "          docLink.innerHTML = docLinkHtml;\n",
              "          element.appendChild(docLink);\n",
              "        }\n",
              "      </script>\n",
              "    </div>\n",
              "  </div>\n",
              "  "
            ]
          },
          "metadata": {},
          "execution_count": 17
        }
      ]
    },
    {
      "cell_type": "code",
      "source": [
        "df['hrsPerWeek'] = df.AVAILABILITY * 24"
      ],
      "metadata": {
        "id": "VS41Dmi2I7KS"
      },
      "execution_count": 20,
      "outputs": []
    },
    {
      "cell_type": "code",
      "source": [
        "df"
      ],
      "metadata": {
        "colab": {
          "base_uri": "https://localhost:8080/",
          "height": 424
        },
        "id": "A3MLY4ZzJSWx",
        "outputId": "bac8eae9-5138-47a4-ede1-1e7ae762bd12"
      },
      "execution_count": 21,
      "outputs": [
        {
          "output_type": "execute_result",
          "data": {
            "text/plain": [
              "            RSE_ID     SCE_ID  STATUS               begin_date  DPT_ID  \\\n",
              "1      680677632.0  664653775  AGREED  2023-01-11 09:00:00.000  634342   \n",
              "4      623072039.0  664653775  AGREED  2023-01-01 15:30:00.000  634342   \n",
              "5      623072039.0  664653775  AGREED  2023-01-01 15:30:00.000  634342   \n",
              "6      623072039.0  664653775  AGREED  2023-01-01 15:30:00.000  634342   \n",
              "7      623072039.0  664653775  AGREED  2023-01-01 15:30:00.000  634342   \n",
              "...            ...        ...     ...                      ...     ...   \n",
              "47447  636051025.0  664653775  AGREED  2023-01-20 07:30:00.000  634342   \n",
              "47448  636051025.0  664653775  AGREED  2023-01-20 07:30:00.000  634342   \n",
              "47449  636051025.0  664653775  AGREED  2023-01-20 07:30:00.000  634342   \n",
              "47450  636051025.0  664653775  AGREED  2023-01-20 07:30:00.000  634342   \n",
              "47451  636051025.0  664653775  AGREED  2023-01-20 07:30:00.000  634342   \n",
              "\n",
              "                      end_date          LAST_UPDATED_AT  AVAILABILITY  \\\n",
              "1      2023-01-11 17:30:00.000  2022-09-27 15:32:11.063      0.000694   \n",
              "4      2023-01-01 23:30:00.000  2022-09-27 15:34:55.340      0.000000   \n",
              "5      2023-01-01 23:30:00.000  2022-09-27 15:34:55.340      0.000000   \n",
              "6      2023-01-01 23:30:00.000  2022-09-27 15:34:55.340      0.000000   \n",
              "7      2023-01-01 23:30:00.000  2022-09-27 15:34:55.340      0.000000   \n",
              "...                        ...                      ...           ...   \n",
              "47447  2023-01-20 16:00:00.000  2022-12-30 10:15:29.060      0.000000   \n",
              "47448  2023-01-20 16:00:00.000  2022-12-30 10:15:29.060      0.000000   \n",
              "47449  2023-01-20 16:00:00.000  2022-12-30 10:15:29.060      0.000000   \n",
              "47450  2023-01-20 16:00:00.000  2022-12-30 10:15:29.060      0.000000   \n",
              "47451  2023-01-20 16:00:00.000  2022-12-30 10:15:29.060      0.000000   \n",
              "\n",
              "       hrsPerWeek  \n",
              "1        0.016667  \n",
              "4        0.000000  \n",
              "5        0.000000  \n",
              "6        0.000000  \n",
              "7        0.000000  \n",
              "...           ...  \n",
              "47447    0.000000  \n",
              "47448    0.000000  \n",
              "47449    0.000000  \n",
              "47450    0.000000  \n",
              "47451    0.000000  \n",
              "\n",
              "[46600 rows x 9 columns]"
            ],
            "text/html": [
              "\n",
              "  <div id=\"df-c2a96eaf-bf18-49a9-8feb-ebe90e9dc2ff\">\n",
              "    <div class=\"colab-df-container\">\n",
              "      <div>\n",
              "<style scoped>\n",
              "    .dataframe tbody tr th:only-of-type {\n",
              "        vertical-align: middle;\n",
              "    }\n",
              "\n",
              "    .dataframe tbody tr th {\n",
              "        vertical-align: top;\n",
              "    }\n",
              "\n",
              "    .dataframe thead th {\n",
              "        text-align: right;\n",
              "    }\n",
              "</style>\n",
              "<table border=\"1\" class=\"dataframe\">\n",
              "  <thead>\n",
              "    <tr style=\"text-align: right;\">\n",
              "      <th></th>\n",
              "      <th>RSE_ID</th>\n",
              "      <th>SCE_ID</th>\n",
              "      <th>STATUS</th>\n",
              "      <th>begin_date</th>\n",
              "      <th>DPT_ID</th>\n",
              "      <th>end_date</th>\n",
              "      <th>LAST_UPDATED_AT</th>\n",
              "      <th>AVAILABILITY</th>\n",
              "      <th>hrsPerWeek</th>\n",
              "    </tr>\n",
              "  </thead>\n",
              "  <tbody>\n",
              "    <tr>\n",
              "      <th>1</th>\n",
              "      <td>680677632.0</td>\n",
              "      <td>664653775</td>\n",
              "      <td>AGREED</td>\n",
              "      <td>2023-01-11 09:00:00.000</td>\n",
              "      <td>634342</td>\n",
              "      <td>2023-01-11 17:30:00.000</td>\n",
              "      <td>2022-09-27 15:32:11.063</td>\n",
              "      <td>0.000694</td>\n",
              "      <td>0.016667</td>\n",
              "    </tr>\n",
              "    <tr>\n",
              "      <th>4</th>\n",
              "      <td>623072039.0</td>\n",
              "      <td>664653775</td>\n",
              "      <td>AGREED</td>\n",
              "      <td>2023-01-01 15:30:00.000</td>\n",
              "      <td>634342</td>\n",
              "      <td>2023-01-01 23:30:00.000</td>\n",
              "      <td>2022-09-27 15:34:55.340</td>\n",
              "      <td>0.000000</td>\n",
              "      <td>0.000000</td>\n",
              "    </tr>\n",
              "    <tr>\n",
              "      <th>5</th>\n",
              "      <td>623072039.0</td>\n",
              "      <td>664653775</td>\n",
              "      <td>AGREED</td>\n",
              "      <td>2023-01-01 15:30:00.000</td>\n",
              "      <td>634342</td>\n",
              "      <td>2023-01-01 23:30:00.000</td>\n",
              "      <td>2022-09-27 15:34:55.340</td>\n",
              "      <td>0.000000</td>\n",
              "      <td>0.000000</td>\n",
              "    </tr>\n",
              "    <tr>\n",
              "      <th>6</th>\n",
              "      <td>623072039.0</td>\n",
              "      <td>664653775</td>\n",
              "      <td>AGREED</td>\n",
              "      <td>2023-01-01 15:30:00.000</td>\n",
              "      <td>634342</td>\n",
              "      <td>2023-01-01 23:30:00.000</td>\n",
              "      <td>2022-09-27 15:34:55.340</td>\n",
              "      <td>0.000000</td>\n",
              "      <td>0.000000</td>\n",
              "    </tr>\n",
              "    <tr>\n",
              "      <th>7</th>\n",
              "      <td>623072039.0</td>\n",
              "      <td>664653775</td>\n",
              "      <td>AGREED</td>\n",
              "      <td>2023-01-01 15:30:00.000</td>\n",
              "      <td>634342</td>\n",
              "      <td>2023-01-01 23:30:00.000</td>\n",
              "      <td>2022-09-27 15:34:55.340</td>\n",
              "      <td>0.000000</td>\n",
              "      <td>0.000000</td>\n",
              "    </tr>\n",
              "    <tr>\n",
              "      <th>...</th>\n",
              "      <td>...</td>\n",
              "      <td>...</td>\n",
              "      <td>...</td>\n",
              "      <td>...</td>\n",
              "      <td>...</td>\n",
              "      <td>...</td>\n",
              "      <td>...</td>\n",
              "      <td>...</td>\n",
              "      <td>...</td>\n",
              "    </tr>\n",
              "    <tr>\n",
              "      <th>47447</th>\n",
              "      <td>636051025.0</td>\n",
              "      <td>664653775</td>\n",
              "      <td>AGREED</td>\n",
              "      <td>2023-01-20 07:30:00.000</td>\n",
              "      <td>634342</td>\n",
              "      <td>2023-01-20 16:00:00.000</td>\n",
              "      <td>2022-12-30 10:15:29.060</td>\n",
              "      <td>0.000000</td>\n",
              "      <td>0.000000</td>\n",
              "    </tr>\n",
              "    <tr>\n",
              "      <th>47448</th>\n",
              "      <td>636051025.0</td>\n",
              "      <td>664653775</td>\n",
              "      <td>AGREED</td>\n",
              "      <td>2023-01-20 07:30:00.000</td>\n",
              "      <td>634342</td>\n",
              "      <td>2023-01-20 16:00:00.000</td>\n",
              "      <td>2022-12-30 10:15:29.060</td>\n",
              "      <td>0.000000</td>\n",
              "      <td>0.000000</td>\n",
              "    </tr>\n",
              "    <tr>\n",
              "      <th>47449</th>\n",
              "      <td>636051025.0</td>\n",
              "      <td>664653775</td>\n",
              "      <td>AGREED</td>\n",
              "      <td>2023-01-20 07:30:00.000</td>\n",
              "      <td>634342</td>\n",
              "      <td>2023-01-20 16:00:00.000</td>\n",
              "      <td>2022-12-30 10:15:29.060</td>\n",
              "      <td>0.000000</td>\n",
              "      <td>0.000000</td>\n",
              "    </tr>\n",
              "    <tr>\n",
              "      <th>47450</th>\n",
              "      <td>636051025.0</td>\n",
              "      <td>664653775</td>\n",
              "      <td>AGREED</td>\n",
              "      <td>2023-01-20 07:30:00.000</td>\n",
              "      <td>634342</td>\n",
              "      <td>2023-01-20 16:00:00.000</td>\n",
              "      <td>2022-12-30 10:15:29.060</td>\n",
              "      <td>0.000000</td>\n",
              "      <td>0.000000</td>\n",
              "    </tr>\n",
              "    <tr>\n",
              "      <th>47451</th>\n",
              "      <td>636051025.0</td>\n",
              "      <td>664653775</td>\n",
              "      <td>AGREED</td>\n",
              "      <td>2023-01-20 07:30:00.000</td>\n",
              "      <td>634342</td>\n",
              "      <td>2023-01-20 16:00:00.000</td>\n",
              "      <td>2022-12-30 10:15:29.060</td>\n",
              "      <td>0.000000</td>\n",
              "      <td>0.000000</td>\n",
              "    </tr>\n",
              "  </tbody>\n",
              "</table>\n",
              "<p>46600 rows × 9 columns</p>\n",
              "</div>\n",
              "      <button class=\"colab-df-convert\" onclick=\"convertToInteractive('df-c2a96eaf-bf18-49a9-8feb-ebe90e9dc2ff')\"\n",
              "              title=\"Convert this dataframe to an interactive table.\"\n",
              "              style=\"display:none;\">\n",
              "        \n",
              "  <svg xmlns=\"http://www.w3.org/2000/svg\" height=\"24px\"viewBox=\"0 0 24 24\"\n",
              "       width=\"24px\">\n",
              "    <path d=\"M0 0h24v24H0V0z\" fill=\"none\"/>\n",
              "    <path d=\"M18.56 5.44l.94 2.06.94-2.06 2.06-.94-2.06-.94-.94-2.06-.94 2.06-2.06.94zm-11 1L8.5 8.5l.94-2.06 2.06-.94-2.06-.94L8.5 2.5l-.94 2.06-2.06.94zm10 10l.94 2.06.94-2.06 2.06-.94-2.06-.94-.94-2.06-.94 2.06-2.06.94z\"/><path d=\"M17.41 7.96l-1.37-1.37c-.4-.4-.92-.59-1.43-.59-.52 0-1.04.2-1.43.59L10.3 9.45l-7.72 7.72c-.78.78-.78 2.05 0 2.83L4 21.41c.39.39.9.59 1.41.59.51 0 1.02-.2 1.41-.59l7.78-7.78 2.81-2.81c.8-.78.8-2.07 0-2.86zM5.41 20L4 18.59l7.72-7.72 1.47 1.35L5.41 20z\"/>\n",
              "  </svg>\n",
              "      </button>\n",
              "      \n",
              "  <style>\n",
              "    .colab-df-container {\n",
              "      display:flex;\n",
              "      flex-wrap:wrap;\n",
              "      gap: 12px;\n",
              "    }\n",
              "\n",
              "    .colab-df-convert {\n",
              "      background-color: #E8F0FE;\n",
              "      border: none;\n",
              "      border-radius: 50%;\n",
              "      cursor: pointer;\n",
              "      display: none;\n",
              "      fill: #1967D2;\n",
              "      height: 32px;\n",
              "      padding: 0 0 0 0;\n",
              "      width: 32px;\n",
              "    }\n",
              "\n",
              "    .colab-df-convert:hover {\n",
              "      background-color: #E2EBFA;\n",
              "      box-shadow: 0px 1px 2px rgba(60, 64, 67, 0.3), 0px 1px 3px 1px rgba(60, 64, 67, 0.15);\n",
              "      fill: #174EA6;\n",
              "    }\n",
              "\n",
              "    [theme=dark] .colab-df-convert {\n",
              "      background-color: #3B4455;\n",
              "      fill: #D2E3FC;\n",
              "    }\n",
              "\n",
              "    [theme=dark] .colab-df-convert:hover {\n",
              "      background-color: #434B5C;\n",
              "      box-shadow: 0px 1px 3px 1px rgba(0, 0, 0, 0.15);\n",
              "      filter: drop-shadow(0px 1px 2px rgba(0, 0, 0, 0.3));\n",
              "      fill: #FFFFFF;\n",
              "    }\n",
              "  </style>\n",
              "\n",
              "      <script>\n",
              "        const buttonEl =\n",
              "          document.querySelector('#df-c2a96eaf-bf18-49a9-8feb-ebe90e9dc2ff button.colab-df-convert');\n",
              "        buttonEl.style.display =\n",
              "          google.colab.kernel.accessAllowed ? 'block' : 'none';\n",
              "\n",
              "        async function convertToInteractive(key) {\n",
              "          const element = document.querySelector('#df-c2a96eaf-bf18-49a9-8feb-ebe90e9dc2ff');\n",
              "          const dataTable =\n",
              "            await google.colab.kernel.invokeFunction('convertToInteractive',\n",
              "                                                     [key], {});\n",
              "          if (!dataTable) return;\n",
              "\n",
              "          const docLinkHtml = 'Like what you see? Visit the ' +\n",
              "            '<a target=\"_blank\" href=https://colab.research.google.com/notebooks/data_table.ipynb>data table notebook</a>'\n",
              "            + ' to learn more about interactive tables.';\n",
              "          element.innerHTML = '';\n",
              "          dataTable['output_type'] = 'display_data';\n",
              "          await google.colab.output.renderOutput(dataTable, element);\n",
              "          const docLink = document.createElement('div');\n",
              "          docLink.innerHTML = docLinkHtml;\n",
              "          element.appendChild(docLink);\n",
              "        }\n",
              "      </script>\n",
              "    </div>\n",
              "  </div>\n",
              "  "
            ]
          },
          "metadata": {},
          "execution_count": 21
        }
      ]
    },
    {
      "cell_type": "code",
      "source": [
        "sum(df.AVAILABILITY == 0)"
      ],
      "metadata": {
        "colab": {
          "base_uri": "https://localhost:8080/"
        },
        "id": "3zsmP6kMJTlx",
        "outputId": "b625fdeb-6341-4c67-8356-7e3574668ad7"
      },
      "execution_count": 25,
      "outputs": [
        {
          "output_type": "execute_result",
          "data": {
            "text/plain": [
              "38909"
            ]
          },
          "metadata": {},
          "execution_count": 25
        }
      ]
    },
    {
      "cell_type": "code",
      "source": [
        "df[df['AVAILABILITY'] != 0]"
      ],
      "metadata": {
        "colab": {
          "base_uri": "https://localhost:8080/",
          "height": 424
        },
        "id": "ecmNIlXEJbXA",
        "outputId": "90c29831-128f-4bc0-9441-634068928a38"
      },
      "execution_count": 26,
      "outputs": [
        {
          "output_type": "execute_result",
          "data": {
            "text/plain": [
              "            RSE_ID     SCE_ID  STATUS               begin_date  DPT_ID  \\\n",
              "1      680677632.0  664653775  AGREED  2023-01-11 09:00:00.000  634342   \n",
              "10     623072039.0  664653775  AGREED  2023-01-01 15:30:00.000  634342   \n",
              "11     623072039.0  664653775  AGREED  2023-01-01 15:30:00.000  634342   \n",
              "13     623072039.0  664653775  AGREED  2023-01-01 15:30:00.000  634342   \n",
              "60     623072039.0  664653775  AGREED  2023-01-27 23:15:00.000  634342   \n",
              "...            ...        ...     ...                      ...     ...   \n",
              "47309  680561825.0  664653775  AGREED  2023-01-23 07:30:00.000  634342   \n",
              "47311  613216243.0  664653775  AGREED  2023-01-29 15:30:00.000  634342   \n",
              "47312  613216243.0  664653775  AGREED  2023-01-29 15:30:00.000  634342   \n",
              "47319  613216243.0  664653775  AGREED  2023-01-27 23:15:00.000  634342   \n",
              "47320  613216243.0  664653775  AGREED  2023-01-27 23:15:00.000  634342   \n",
              "\n",
              "                      end_date          LAST_UPDATED_AT  AVAILABILITY  \\\n",
              "1      2023-01-11 17:30:00.000  2022-09-27 15:32:11.063      0.000694   \n",
              "10     2023-01-01 23:30:00.000  2022-09-27 15:34:55.340      1.000000   \n",
              "11     2023-01-01 23:30:00.000  2022-09-27 15:34:55.340      1.166667   \n",
              "13     2023-01-01 23:30:00.000  2022-09-27 15:34:55.340      1.166667   \n",
              "60     2023-01-28 07:45:00.000  2022-11-09 15:51:36.133      1.000000   \n",
              "...                        ...                      ...           ...   \n",
              "47309  2023-01-23 16:00:00.000  2023-01-20 16:22:17.837      0.000694   \n",
              "47311  2023-01-29 23:30:00.000  2023-01-23 10:45:50.203      1.333333   \n",
              "47312  2023-01-29 23:30:00.000  2023-01-23 10:45:50.203      1.000000   \n",
              "47319  2023-01-28 07:45:00.000  2023-01-26 13:42:02.627      1.333333   \n",
              "47320  2023-01-28 07:45:00.000  2023-01-26 13:42:02.627      1.000000   \n",
              "\n",
              "       hrsPerWeek  \n",
              "1        0.016667  \n",
              "10      24.000000  \n",
              "11      28.000000  \n",
              "13      28.000000  \n",
              "60      24.000000  \n",
              "...           ...  \n",
              "47309    0.016667  \n",
              "47311   32.000000  \n",
              "47312   24.000000  \n",
              "47319   32.000000  \n",
              "47320   24.000000  \n",
              "\n",
              "[7691 rows x 9 columns]"
            ],
            "text/html": [
              "\n",
              "  <div id=\"df-0e8ed350-2f88-4698-8553-0c2e0276a889\">\n",
              "    <div class=\"colab-df-container\">\n",
              "      <div>\n",
              "<style scoped>\n",
              "    .dataframe tbody tr th:only-of-type {\n",
              "        vertical-align: middle;\n",
              "    }\n",
              "\n",
              "    .dataframe tbody tr th {\n",
              "        vertical-align: top;\n",
              "    }\n",
              "\n",
              "    .dataframe thead th {\n",
              "        text-align: right;\n",
              "    }\n",
              "</style>\n",
              "<table border=\"1\" class=\"dataframe\">\n",
              "  <thead>\n",
              "    <tr style=\"text-align: right;\">\n",
              "      <th></th>\n",
              "      <th>RSE_ID</th>\n",
              "      <th>SCE_ID</th>\n",
              "      <th>STATUS</th>\n",
              "      <th>begin_date</th>\n",
              "      <th>DPT_ID</th>\n",
              "      <th>end_date</th>\n",
              "      <th>LAST_UPDATED_AT</th>\n",
              "      <th>AVAILABILITY</th>\n",
              "      <th>hrsPerWeek</th>\n",
              "    </tr>\n",
              "  </thead>\n",
              "  <tbody>\n",
              "    <tr>\n",
              "      <th>1</th>\n",
              "      <td>680677632.0</td>\n",
              "      <td>664653775</td>\n",
              "      <td>AGREED</td>\n",
              "      <td>2023-01-11 09:00:00.000</td>\n",
              "      <td>634342</td>\n",
              "      <td>2023-01-11 17:30:00.000</td>\n",
              "      <td>2022-09-27 15:32:11.063</td>\n",
              "      <td>0.000694</td>\n",
              "      <td>0.016667</td>\n",
              "    </tr>\n",
              "    <tr>\n",
              "      <th>10</th>\n",
              "      <td>623072039.0</td>\n",
              "      <td>664653775</td>\n",
              "      <td>AGREED</td>\n",
              "      <td>2023-01-01 15:30:00.000</td>\n",
              "      <td>634342</td>\n",
              "      <td>2023-01-01 23:30:00.000</td>\n",
              "      <td>2022-09-27 15:34:55.340</td>\n",
              "      <td>1.000000</td>\n",
              "      <td>24.000000</td>\n",
              "    </tr>\n",
              "    <tr>\n",
              "      <th>11</th>\n",
              "      <td>623072039.0</td>\n",
              "      <td>664653775</td>\n",
              "      <td>AGREED</td>\n",
              "      <td>2023-01-01 15:30:00.000</td>\n",
              "      <td>634342</td>\n",
              "      <td>2023-01-01 23:30:00.000</td>\n",
              "      <td>2022-09-27 15:34:55.340</td>\n",
              "      <td>1.166667</td>\n",
              "      <td>28.000000</td>\n",
              "    </tr>\n",
              "    <tr>\n",
              "      <th>13</th>\n",
              "      <td>623072039.0</td>\n",
              "      <td>664653775</td>\n",
              "      <td>AGREED</td>\n",
              "      <td>2023-01-01 15:30:00.000</td>\n",
              "      <td>634342</td>\n",
              "      <td>2023-01-01 23:30:00.000</td>\n",
              "      <td>2022-09-27 15:34:55.340</td>\n",
              "      <td>1.166667</td>\n",
              "      <td>28.000000</td>\n",
              "    </tr>\n",
              "    <tr>\n",
              "      <th>60</th>\n",
              "      <td>623072039.0</td>\n",
              "      <td>664653775</td>\n",
              "      <td>AGREED</td>\n",
              "      <td>2023-01-27 23:15:00.000</td>\n",
              "      <td>634342</td>\n",
              "      <td>2023-01-28 07:45:00.000</td>\n",
              "      <td>2022-11-09 15:51:36.133</td>\n",
              "      <td>1.000000</td>\n",
              "      <td>24.000000</td>\n",
              "    </tr>\n",
              "    <tr>\n",
              "      <th>...</th>\n",
              "      <td>...</td>\n",
              "      <td>...</td>\n",
              "      <td>...</td>\n",
              "      <td>...</td>\n",
              "      <td>...</td>\n",
              "      <td>...</td>\n",
              "      <td>...</td>\n",
              "      <td>...</td>\n",
              "      <td>...</td>\n",
              "    </tr>\n",
              "    <tr>\n",
              "      <th>47309</th>\n",
              "      <td>680561825.0</td>\n",
              "      <td>664653775</td>\n",
              "      <td>AGREED</td>\n",
              "      <td>2023-01-23 07:30:00.000</td>\n",
              "      <td>634342</td>\n",
              "      <td>2023-01-23 16:00:00.000</td>\n",
              "      <td>2023-01-20 16:22:17.837</td>\n",
              "      <td>0.000694</td>\n",
              "      <td>0.016667</td>\n",
              "    </tr>\n",
              "    <tr>\n",
              "      <th>47311</th>\n",
              "      <td>613216243.0</td>\n",
              "      <td>664653775</td>\n",
              "      <td>AGREED</td>\n",
              "      <td>2023-01-29 15:30:00.000</td>\n",
              "      <td>634342</td>\n",
              "      <td>2023-01-29 23:30:00.000</td>\n",
              "      <td>2023-01-23 10:45:50.203</td>\n",
              "      <td>1.333333</td>\n",
              "      <td>32.000000</td>\n",
              "    </tr>\n",
              "    <tr>\n",
              "      <th>47312</th>\n",
              "      <td>613216243.0</td>\n",
              "      <td>664653775</td>\n",
              "      <td>AGREED</td>\n",
              "      <td>2023-01-29 15:30:00.000</td>\n",
              "      <td>634342</td>\n",
              "      <td>2023-01-29 23:30:00.000</td>\n",
              "      <td>2023-01-23 10:45:50.203</td>\n",
              "      <td>1.000000</td>\n",
              "      <td>24.000000</td>\n",
              "    </tr>\n",
              "    <tr>\n",
              "      <th>47319</th>\n",
              "      <td>613216243.0</td>\n",
              "      <td>664653775</td>\n",
              "      <td>AGREED</td>\n",
              "      <td>2023-01-27 23:15:00.000</td>\n",
              "      <td>634342</td>\n",
              "      <td>2023-01-28 07:45:00.000</td>\n",
              "      <td>2023-01-26 13:42:02.627</td>\n",
              "      <td>1.333333</td>\n",
              "      <td>32.000000</td>\n",
              "    </tr>\n",
              "    <tr>\n",
              "      <th>47320</th>\n",
              "      <td>613216243.0</td>\n",
              "      <td>664653775</td>\n",
              "      <td>AGREED</td>\n",
              "      <td>2023-01-27 23:15:00.000</td>\n",
              "      <td>634342</td>\n",
              "      <td>2023-01-28 07:45:00.000</td>\n",
              "      <td>2023-01-26 13:42:02.627</td>\n",
              "      <td>1.000000</td>\n",
              "      <td>24.000000</td>\n",
              "    </tr>\n",
              "  </tbody>\n",
              "</table>\n",
              "<p>7691 rows × 9 columns</p>\n",
              "</div>\n",
              "      <button class=\"colab-df-convert\" onclick=\"convertToInteractive('df-0e8ed350-2f88-4698-8553-0c2e0276a889')\"\n",
              "              title=\"Convert this dataframe to an interactive table.\"\n",
              "              style=\"display:none;\">\n",
              "        \n",
              "  <svg xmlns=\"http://www.w3.org/2000/svg\" height=\"24px\"viewBox=\"0 0 24 24\"\n",
              "       width=\"24px\">\n",
              "    <path d=\"M0 0h24v24H0V0z\" fill=\"none\"/>\n",
              "    <path d=\"M18.56 5.44l.94 2.06.94-2.06 2.06-.94-2.06-.94-.94-2.06-.94 2.06-2.06.94zm-11 1L8.5 8.5l.94-2.06 2.06-.94-2.06-.94L8.5 2.5l-.94 2.06-2.06.94zm10 10l.94 2.06.94-2.06 2.06-.94-2.06-.94-.94-2.06-.94 2.06-2.06.94z\"/><path d=\"M17.41 7.96l-1.37-1.37c-.4-.4-.92-.59-1.43-.59-.52 0-1.04.2-1.43.59L10.3 9.45l-7.72 7.72c-.78.78-.78 2.05 0 2.83L4 21.41c.39.39.9.59 1.41.59.51 0 1.02-.2 1.41-.59l7.78-7.78 2.81-2.81c.8-.78.8-2.07 0-2.86zM5.41 20L4 18.59l7.72-7.72 1.47 1.35L5.41 20z\"/>\n",
              "  </svg>\n",
              "      </button>\n",
              "      \n",
              "  <style>\n",
              "    .colab-df-container {\n",
              "      display:flex;\n",
              "      flex-wrap:wrap;\n",
              "      gap: 12px;\n",
              "    }\n",
              "\n",
              "    .colab-df-convert {\n",
              "      background-color: #E8F0FE;\n",
              "      border: none;\n",
              "      border-radius: 50%;\n",
              "      cursor: pointer;\n",
              "      display: none;\n",
              "      fill: #1967D2;\n",
              "      height: 32px;\n",
              "      padding: 0 0 0 0;\n",
              "      width: 32px;\n",
              "    }\n",
              "\n",
              "    .colab-df-convert:hover {\n",
              "      background-color: #E2EBFA;\n",
              "      box-shadow: 0px 1px 2px rgba(60, 64, 67, 0.3), 0px 1px 3px 1px rgba(60, 64, 67, 0.15);\n",
              "      fill: #174EA6;\n",
              "    }\n",
              "\n",
              "    [theme=dark] .colab-df-convert {\n",
              "      background-color: #3B4455;\n",
              "      fill: #D2E3FC;\n",
              "    }\n",
              "\n",
              "    [theme=dark] .colab-df-convert:hover {\n",
              "      background-color: #434B5C;\n",
              "      box-shadow: 0px 1px 3px 1px rgba(0, 0, 0, 0.15);\n",
              "      filter: drop-shadow(0px 1px 2px rgba(0, 0, 0, 0.3));\n",
              "      fill: #FFFFFF;\n",
              "    }\n",
              "  </style>\n",
              "\n",
              "      <script>\n",
              "        const buttonEl =\n",
              "          document.querySelector('#df-0e8ed350-2f88-4698-8553-0c2e0276a889 button.colab-df-convert');\n",
              "        buttonEl.style.display =\n",
              "          google.colab.kernel.accessAllowed ? 'block' : 'none';\n",
              "\n",
              "        async function convertToInteractive(key) {\n",
              "          const element = document.querySelector('#df-0e8ed350-2f88-4698-8553-0c2e0276a889');\n",
              "          const dataTable =\n",
              "            await google.colab.kernel.invokeFunction('convertToInteractive',\n",
              "                                                     [key], {});\n",
              "          if (!dataTable) return;\n",
              "\n",
              "          const docLinkHtml = 'Like what you see? Visit the ' +\n",
              "            '<a target=\"_blank\" href=https://colab.research.google.com/notebooks/data_table.ipynb>data table notebook</a>'\n",
              "            + ' to learn more about interactive tables.';\n",
              "          element.innerHTML = '';\n",
              "          dataTable['output_type'] = 'display_data';\n",
              "          await google.colab.output.renderOutput(dataTable, element);\n",
              "          const docLink = document.createElement('div');\n",
              "          docLink.innerHTML = docLinkHtml;\n",
              "          element.appendChild(docLink);\n",
              "        }\n",
              "      </script>\n",
              "    </div>\n",
              "  </div>\n",
              "  "
            ]
          },
          "metadata": {},
          "execution_count": 26
        }
      ]
    },
    {
      "cell_type": "code",
      "source": [
        "df = df[df['hrsPerWeek'] > 1]"
      ],
      "metadata": {
        "id": "3QB4lcw-KFj3"
      },
      "execution_count": 28,
      "outputs": []
    },
    {
      "cell_type": "markdown",
      "source": [
        "# EDA"
      ],
      "metadata": {
        "id": "N-QTHsOsKOAG"
      }
    },
    {
      "cell_type": "code",
      "source": [
        "df"
      ],
      "metadata": {
        "colab": {
          "base_uri": "https://localhost:8080/",
          "height": 424
        },
        "id": "OVP1uEywKMCd",
        "outputId": "d7d3d546-5ce9-4ad2-bb79-bf57c9fd61b6"
      },
      "execution_count": 29,
      "outputs": [
        {
          "output_type": "execute_result",
          "data": {
            "text/plain": [
              "            RSE_ID     SCE_ID  STATUS               begin_date  DPT_ID  \\\n",
              "10     623072039.0  664653775  AGREED  2023-01-01 15:30:00.000  634342   \n",
              "11     623072039.0  664653775  AGREED  2023-01-01 15:30:00.000  634342   \n",
              "13     623072039.0  664653775  AGREED  2023-01-01 15:30:00.000  634342   \n",
              "60     623072039.0  664653775  AGREED  2023-01-27 23:15:00.000  634342   \n",
              "61     623072039.0  664653775  AGREED  2023-01-27 23:15:00.000  634342   \n",
              "...            ...        ...     ...                      ...     ...   \n",
              "47308  678403213.0  664653775  AGREED  2023-01-22 07:30:00.000  634342   \n",
              "47311  613216243.0  664653775  AGREED  2023-01-29 15:30:00.000  634342   \n",
              "47312  613216243.0  664653775  AGREED  2023-01-29 15:30:00.000  634342   \n",
              "47319  613216243.0  664653775  AGREED  2023-01-27 23:15:00.000  634342   \n",
              "47320  613216243.0  664653775  AGREED  2023-01-27 23:15:00.000  634342   \n",
              "\n",
              "                      end_date          LAST_UPDATED_AT  AVAILABILITY  \\\n",
              "10     2023-01-01 23:30:00.000  2022-09-27 15:34:55.340      1.000000   \n",
              "11     2023-01-01 23:30:00.000  2022-09-27 15:34:55.340      1.166667   \n",
              "13     2023-01-01 23:30:00.000  2022-09-27 15:34:55.340      1.166667   \n",
              "60     2023-01-28 07:45:00.000  2022-11-09 15:51:36.133      1.000000   \n",
              "61     2023-01-28 07:45:00.000  2022-11-09 15:51:36.133      1.166667   \n",
              "...                        ...                      ...           ...   \n",
              "47308  2023-01-22 16:00:00.000  2023-01-20 16:00:23.777      1.333333   \n",
              "47311  2023-01-29 23:30:00.000  2023-01-23 10:45:50.203      1.333333   \n",
              "47312  2023-01-29 23:30:00.000  2023-01-23 10:45:50.203      1.000000   \n",
              "47319  2023-01-28 07:45:00.000  2023-01-26 13:42:02.627      1.333333   \n",
              "47320  2023-01-28 07:45:00.000  2023-01-26 13:42:02.627      1.000000   \n",
              "\n",
              "       hrsPerWeek  \n",
              "10           24.0  \n",
              "11           28.0  \n",
              "13           28.0  \n",
              "60           24.0  \n",
              "61           28.0  \n",
              "...           ...  \n",
              "47308        32.0  \n",
              "47311        32.0  \n",
              "47312        24.0  \n",
              "47319        32.0  \n",
              "47320        24.0  \n",
              "\n",
              "[7405 rows x 9 columns]"
            ],
            "text/html": [
              "\n",
              "  <div id=\"df-4b3fcbc0-51f6-4ef9-9cf2-4b17a70f45f5\">\n",
              "    <div class=\"colab-df-container\">\n",
              "      <div>\n",
              "<style scoped>\n",
              "    .dataframe tbody tr th:only-of-type {\n",
              "        vertical-align: middle;\n",
              "    }\n",
              "\n",
              "    .dataframe tbody tr th {\n",
              "        vertical-align: top;\n",
              "    }\n",
              "\n",
              "    .dataframe thead th {\n",
              "        text-align: right;\n",
              "    }\n",
              "</style>\n",
              "<table border=\"1\" class=\"dataframe\">\n",
              "  <thead>\n",
              "    <tr style=\"text-align: right;\">\n",
              "      <th></th>\n",
              "      <th>RSE_ID</th>\n",
              "      <th>SCE_ID</th>\n",
              "      <th>STATUS</th>\n",
              "      <th>begin_date</th>\n",
              "      <th>DPT_ID</th>\n",
              "      <th>end_date</th>\n",
              "      <th>LAST_UPDATED_AT</th>\n",
              "      <th>AVAILABILITY</th>\n",
              "      <th>hrsPerWeek</th>\n",
              "    </tr>\n",
              "  </thead>\n",
              "  <tbody>\n",
              "    <tr>\n",
              "      <th>10</th>\n",
              "      <td>623072039.0</td>\n",
              "      <td>664653775</td>\n",
              "      <td>AGREED</td>\n",
              "      <td>2023-01-01 15:30:00.000</td>\n",
              "      <td>634342</td>\n",
              "      <td>2023-01-01 23:30:00.000</td>\n",
              "      <td>2022-09-27 15:34:55.340</td>\n",
              "      <td>1.000000</td>\n",
              "      <td>24.0</td>\n",
              "    </tr>\n",
              "    <tr>\n",
              "      <th>11</th>\n",
              "      <td>623072039.0</td>\n",
              "      <td>664653775</td>\n",
              "      <td>AGREED</td>\n",
              "      <td>2023-01-01 15:30:00.000</td>\n",
              "      <td>634342</td>\n",
              "      <td>2023-01-01 23:30:00.000</td>\n",
              "      <td>2022-09-27 15:34:55.340</td>\n",
              "      <td>1.166667</td>\n",
              "      <td>28.0</td>\n",
              "    </tr>\n",
              "    <tr>\n",
              "      <th>13</th>\n",
              "      <td>623072039.0</td>\n",
              "      <td>664653775</td>\n",
              "      <td>AGREED</td>\n",
              "      <td>2023-01-01 15:30:00.000</td>\n",
              "      <td>634342</td>\n",
              "      <td>2023-01-01 23:30:00.000</td>\n",
              "      <td>2022-09-27 15:34:55.340</td>\n",
              "      <td>1.166667</td>\n",
              "      <td>28.0</td>\n",
              "    </tr>\n",
              "    <tr>\n",
              "      <th>60</th>\n",
              "      <td>623072039.0</td>\n",
              "      <td>664653775</td>\n",
              "      <td>AGREED</td>\n",
              "      <td>2023-01-27 23:15:00.000</td>\n",
              "      <td>634342</td>\n",
              "      <td>2023-01-28 07:45:00.000</td>\n",
              "      <td>2022-11-09 15:51:36.133</td>\n",
              "      <td>1.000000</td>\n",
              "      <td>24.0</td>\n",
              "    </tr>\n",
              "    <tr>\n",
              "      <th>61</th>\n",
              "      <td>623072039.0</td>\n",
              "      <td>664653775</td>\n",
              "      <td>AGREED</td>\n",
              "      <td>2023-01-27 23:15:00.000</td>\n",
              "      <td>634342</td>\n",
              "      <td>2023-01-28 07:45:00.000</td>\n",
              "      <td>2022-11-09 15:51:36.133</td>\n",
              "      <td>1.166667</td>\n",
              "      <td>28.0</td>\n",
              "    </tr>\n",
              "    <tr>\n",
              "      <th>...</th>\n",
              "      <td>...</td>\n",
              "      <td>...</td>\n",
              "      <td>...</td>\n",
              "      <td>...</td>\n",
              "      <td>...</td>\n",
              "      <td>...</td>\n",
              "      <td>...</td>\n",
              "      <td>...</td>\n",
              "      <td>...</td>\n",
              "    </tr>\n",
              "    <tr>\n",
              "      <th>47308</th>\n",
              "      <td>678403213.0</td>\n",
              "      <td>664653775</td>\n",
              "      <td>AGREED</td>\n",
              "      <td>2023-01-22 07:30:00.000</td>\n",
              "      <td>634342</td>\n",
              "      <td>2023-01-22 16:00:00.000</td>\n",
              "      <td>2023-01-20 16:00:23.777</td>\n",
              "      <td>1.333333</td>\n",
              "      <td>32.0</td>\n",
              "    </tr>\n",
              "    <tr>\n",
              "      <th>47311</th>\n",
              "      <td>613216243.0</td>\n",
              "      <td>664653775</td>\n",
              "      <td>AGREED</td>\n",
              "      <td>2023-01-29 15:30:00.000</td>\n",
              "      <td>634342</td>\n",
              "      <td>2023-01-29 23:30:00.000</td>\n",
              "      <td>2023-01-23 10:45:50.203</td>\n",
              "      <td>1.333333</td>\n",
              "      <td>32.0</td>\n",
              "    </tr>\n",
              "    <tr>\n",
              "      <th>47312</th>\n",
              "      <td>613216243.0</td>\n",
              "      <td>664653775</td>\n",
              "      <td>AGREED</td>\n",
              "      <td>2023-01-29 15:30:00.000</td>\n",
              "      <td>634342</td>\n",
              "      <td>2023-01-29 23:30:00.000</td>\n",
              "      <td>2023-01-23 10:45:50.203</td>\n",
              "      <td>1.000000</td>\n",
              "      <td>24.0</td>\n",
              "    </tr>\n",
              "    <tr>\n",
              "      <th>47319</th>\n",
              "      <td>613216243.0</td>\n",
              "      <td>664653775</td>\n",
              "      <td>AGREED</td>\n",
              "      <td>2023-01-27 23:15:00.000</td>\n",
              "      <td>634342</td>\n",
              "      <td>2023-01-28 07:45:00.000</td>\n",
              "      <td>2023-01-26 13:42:02.627</td>\n",
              "      <td>1.333333</td>\n",
              "      <td>32.0</td>\n",
              "    </tr>\n",
              "    <tr>\n",
              "      <th>47320</th>\n",
              "      <td>613216243.0</td>\n",
              "      <td>664653775</td>\n",
              "      <td>AGREED</td>\n",
              "      <td>2023-01-27 23:15:00.000</td>\n",
              "      <td>634342</td>\n",
              "      <td>2023-01-28 07:45:00.000</td>\n",
              "      <td>2023-01-26 13:42:02.627</td>\n",
              "      <td>1.000000</td>\n",
              "      <td>24.0</td>\n",
              "    </tr>\n",
              "  </tbody>\n",
              "</table>\n",
              "<p>7405 rows × 9 columns</p>\n",
              "</div>\n",
              "      <button class=\"colab-df-convert\" onclick=\"convertToInteractive('df-4b3fcbc0-51f6-4ef9-9cf2-4b17a70f45f5')\"\n",
              "              title=\"Convert this dataframe to an interactive table.\"\n",
              "              style=\"display:none;\">\n",
              "        \n",
              "  <svg xmlns=\"http://www.w3.org/2000/svg\" height=\"24px\"viewBox=\"0 0 24 24\"\n",
              "       width=\"24px\">\n",
              "    <path d=\"M0 0h24v24H0V0z\" fill=\"none\"/>\n",
              "    <path d=\"M18.56 5.44l.94 2.06.94-2.06 2.06-.94-2.06-.94-.94-2.06-.94 2.06-2.06.94zm-11 1L8.5 8.5l.94-2.06 2.06-.94-2.06-.94L8.5 2.5l-.94 2.06-2.06.94zm10 10l.94 2.06.94-2.06 2.06-.94-2.06-.94-.94-2.06-.94 2.06-2.06.94z\"/><path d=\"M17.41 7.96l-1.37-1.37c-.4-.4-.92-.59-1.43-.59-.52 0-1.04.2-1.43.59L10.3 9.45l-7.72 7.72c-.78.78-.78 2.05 0 2.83L4 21.41c.39.39.9.59 1.41.59.51 0 1.02-.2 1.41-.59l7.78-7.78 2.81-2.81c.8-.78.8-2.07 0-2.86zM5.41 20L4 18.59l7.72-7.72 1.47 1.35L5.41 20z\"/>\n",
              "  </svg>\n",
              "      </button>\n",
              "      \n",
              "  <style>\n",
              "    .colab-df-container {\n",
              "      display:flex;\n",
              "      flex-wrap:wrap;\n",
              "      gap: 12px;\n",
              "    }\n",
              "\n",
              "    .colab-df-convert {\n",
              "      background-color: #E8F0FE;\n",
              "      border: none;\n",
              "      border-radius: 50%;\n",
              "      cursor: pointer;\n",
              "      display: none;\n",
              "      fill: #1967D2;\n",
              "      height: 32px;\n",
              "      padding: 0 0 0 0;\n",
              "      width: 32px;\n",
              "    }\n",
              "\n",
              "    .colab-df-convert:hover {\n",
              "      background-color: #E2EBFA;\n",
              "      box-shadow: 0px 1px 2px rgba(60, 64, 67, 0.3), 0px 1px 3px 1px rgba(60, 64, 67, 0.15);\n",
              "      fill: #174EA6;\n",
              "    }\n",
              "\n",
              "    [theme=dark] .colab-df-convert {\n",
              "      background-color: #3B4455;\n",
              "      fill: #D2E3FC;\n",
              "    }\n",
              "\n",
              "    [theme=dark] .colab-df-convert:hover {\n",
              "      background-color: #434B5C;\n",
              "      box-shadow: 0px 1px 3px 1px rgba(0, 0, 0, 0.15);\n",
              "      filter: drop-shadow(0px 1px 2px rgba(0, 0, 0, 0.3));\n",
              "      fill: #FFFFFF;\n",
              "    }\n",
              "  </style>\n",
              "\n",
              "      <script>\n",
              "        const buttonEl =\n",
              "          document.querySelector('#df-4b3fcbc0-51f6-4ef9-9cf2-4b17a70f45f5 button.colab-df-convert');\n",
              "        buttonEl.style.display =\n",
              "          google.colab.kernel.accessAllowed ? 'block' : 'none';\n",
              "\n",
              "        async function convertToInteractive(key) {\n",
              "          const element = document.querySelector('#df-4b3fcbc0-51f6-4ef9-9cf2-4b17a70f45f5');\n",
              "          const dataTable =\n",
              "            await google.colab.kernel.invokeFunction('convertToInteractive',\n",
              "                                                     [key], {});\n",
              "          if (!dataTable) return;\n",
              "\n",
              "          const docLinkHtml = 'Like what you see? Visit the ' +\n",
              "            '<a target=\"_blank\" href=https://colab.research.google.com/notebooks/data_table.ipynb>data table notebook</a>'\n",
              "            + ' to learn more about interactive tables.';\n",
              "          element.innerHTML = '';\n",
              "          dataTable['output_type'] = 'display_data';\n",
              "          await google.colab.output.renderOutput(dataTable, element);\n",
              "          const docLink = document.createElement('div');\n",
              "          docLink.innerHTML = docLinkHtml;\n",
              "          element.appendChild(docLink);\n",
              "        }\n",
              "      </script>\n",
              "    </div>\n",
              "  </div>\n",
              "  "
            ]
          },
          "metadata": {},
          "execution_count": 29
        }
      ]
    },
    {
      "cell_type": "markdown",
      "source": [
        "## distribution of FTE per department"
      ],
      "metadata": {
        "id": "RieXOVtTKvRe"
      }
    },
    {
      "cell_type": "code",
      "source": [
        "df.groupby(['DPT_ID']).mean().hrsPerWeek"
      ],
      "metadata": {
        "colab": {
          "base_uri": "https://localhost:8080/"
        },
        "id": "vqCWT87SKMw9",
        "outputId": "b9831f43-0c3b-472e-dd65-11eb2004b14b"
      },
      "execution_count": 59,
      "outputs": [
        {
          "output_type": "execute_result",
          "data": {
            "text/plain": [
              "DPT_ID\n",
              "634342          28.037792\n",
              "Chirurgie 4D    28.278714\n",
              "Name: hrsPerWeek, dtype: float64"
            ]
          },
          "metadata": {},
          "execution_count": 59
        }
      ]
    },
    {
      "cell_type": "code",
      "source": [
        "df['DPT_ID']"
      ],
      "metadata": {
        "colab": {
          "base_uri": "https://localhost:8080/"
        },
        "id": "C2AUvvz7NIlz",
        "outputId": "c632e5c9-0c5d-4f68-9329-3b0e0dd56080"
      },
      "execution_count": 65,
      "outputs": [
        {
          "output_type": "execute_result",
          "data": {
            "text/plain": [
              "10       634342\n",
              "11       634342\n",
              "13       634342\n",
              "60       634342\n",
              "61       634342\n",
              "          ...  \n",
              "47308    634342\n",
              "47311    634342\n",
              "47312    634342\n",
              "47319    634342\n",
              "47320    634342\n",
              "Name: DPT_ID, Length: 7405, dtype: object"
            ]
          },
          "metadata": {},
          "execution_count": 65
        }
      ]
    },
    {
      "cell_type": "code",
      "source": [
        "sum(df['DPT_ID'] ==  634342)"
      ],
      "metadata": {
        "colab": {
          "base_uri": "https://localhost:8080/"
        },
        "id": "gmUAa6mSM2kr",
        "outputId": "749689df-863f-4c41-d772-e7cedce8a35e"
      },
      "execution_count": 66,
      "outputs": [
        {
          "output_type": "execute_result",
          "data": {
            "text/plain": [
              "0"
            ]
          },
          "metadata": {},
          "execution_count": 66
        }
      ]
    },
    {
      "cell_type": "code",
      "source": [
        "df.loc[df['DPT_ID'] == 634342, 'DPT_ID'] = 'Interne 2B'"
      ],
      "metadata": {
        "id": "TxJppfyzM2pU"
      },
      "execution_count": 58,
      "outputs": []
    },
    {
      "cell_type": "code",
      "source": [
        "df['DPT_ID'] = np.where(df['DPT_ID'] == 629645, 'Chirurgie 4D' , df['DPT_ID'])\n"
      ],
      "metadata": {
        "colab": {
          "base_uri": "https://localhost:8080/"
        },
        "id": "hZ0VU6sDLzZ2",
        "outputId": "20f0ff43-1be9-457b-e5b4-c1d5980691a5"
      },
      "execution_count": 49,
      "outputs": [
        {
          "output_type": "stream",
          "name": "stderr",
          "text": [
            "<ipython-input-49-b1a279277d68>:1: SettingWithCopyWarning: \n",
            "A value is trying to be set on a copy of a slice from a DataFrame.\n",
            "Try using .loc[row_indexer,col_indexer] = value instead\n",
            "\n",
            "See the caveats in the documentation: https://pandas.pydata.org/pandas-docs/stable/user_guide/indexing.html#returning-a-view-versus-a-copy\n",
            "  df['DPT_ID'] = np.where(df['DPT_ID'] == 629645, 'Chirurgie 4D' , df['DPT_ID'])\n",
            "<ipython-input-49-b1a279277d68>:2: SettingWithCopyWarning: \n",
            "A value is trying to be set on a copy of a slice from a DataFrame.\n",
            "Try using .loc[row_indexer,col_indexer] = value instead\n",
            "\n",
            "See the caveats in the documentation: https://pandas.pydata.org/pandas-docs/stable/user_guide/indexing.html#returning-a-view-versus-a-copy\n",
            "  df['DPT_ID'] = np.where(df['DPT_ID'] == 634342, 'Interne 2B' , df['DPT_ID'])\n"
          ]
        }
      ]
    },
    {
      "cell_type": "code",
      "source": [
        "df['DPT_ID'] = np.where(df['DPT_ID'] == 634342, 'Interne 2B' , df['DPT_ID'])"
      ],
      "metadata": {
        "colab": {
          "base_uri": "https://localhost:8080/"
        },
        "id": "jpoVzhwOMgou",
        "outputId": "fa4db2b5-19e2-46ca-dd30-187a7bebf497"
      },
      "execution_count": 56,
      "outputs": [
        {
          "output_type": "stream",
          "name": "stderr",
          "text": [
            "<ipython-input-56-14bfe01d6c17>:1: SettingWithCopyWarning: \n",
            "A value is trying to be set on a copy of a slice from a DataFrame.\n",
            "Try using .loc[row_indexer,col_indexer] = value instead\n",
            "\n",
            "See the caveats in the documentation: https://pandas.pydata.org/pandas-docs/stable/user_guide/indexing.html#returning-a-view-versus-a-copy\n",
            "  df['DPT_ID'] = np.where(df['DPT_ID'] == 634342, 'Interne 2B' , df['DPT_ID'])\n"
          ]
        }
      ]
    },
    {
      "cell_type": "code",
      "source": [
        "df.groupby(['DPT_ID']).hrsPerWeek.hist(alpha=0.8, legend=True)"
      ],
      "metadata": {
        "colab": {
          "base_uri": "https://localhost:8080/",
          "height": 499
        },
        "id": "-7EeNcw4Kaa_",
        "outputId": "649a4f55-4907-4c9a-db87-242f5e2a0c52"
      },
      "execution_count": 70,
      "outputs": [
        {
          "output_type": "execute_result",
          "data": {
            "text/plain": [
              "DPT_ID\n",
              "634342          Axes(0.125,0.11;0.775x0.77)\n",
              "Chirurgie 4D    Axes(0.125,0.11;0.775x0.77)\n",
              "Name: hrsPerWeek, dtype: object"
            ]
          },
          "metadata": {},
          "execution_count": 70
        },
        {
          "output_type": "display_data",
          "data": {
            "text/plain": [
              "<Figure size 640x480 with 1 Axes>"
            ],
            "image/png": "[encoded data removed]"
          },
          "metadata": {}
        }
      ]
    },
    {
      "cell_type": "markdown",
      "source": [
        "## is the average shift 8 hrs?"
      ],
      "metadata": {
        "id": "al_PwtN_OqYF"
      }
    },
    {
      "cell_type": "code",
      "source": [
        "df.begin_date"
      ],
      "metadata": {
        "colab": {
          "base_uri": "https://localhost:8080/"
        },
        "id": "LxJzjYgFOygO",
        "outputId": "977bb609-a7df-4caa-8c97-c6aacbb97578"
      },
      "execution_count": 91,
      "outputs": [
        {
          "output_type": "execute_result",
          "data": {
            "text/plain": [
              "10      2023-01-01 15:30:00\n",
              "11      2023-01-01 15:30:00\n",
              "13      2023-01-01 15:30:00\n",
              "60      2023-01-27 23:15:00\n",
              "61      2023-01-27 23:15:00\n",
              "                ...        \n",
              "47308   2023-01-22 07:30:00\n",
              "47311   2023-01-29 15:30:00\n",
              "47312   2023-01-29 15:30:00\n",
              "47319   2023-01-27 23:15:00\n",
              "47320   2023-01-27 23:15:00\n",
              "Name: begin_date, Length: 7405, dtype: datetime64[ns]"
            ]
          },
          "metadata": {},
          "execution_count": 91
        }
      ]
    },
    {
      "cell_type": "code",
      "source": [
        "df['begin_date'] = pd.to_datetime(df['begin_date'], format = '%Y-%m-%d %H:%M:%S')\n",
        "df['end_date'] = pd.to_datetime(df['end_date'], format = '%Y-%m-%d %H:%M:%S')"
      ],
      "metadata": {
        "colab": {
          "base_uri": "https://localhost:8080/"
        },
        "id": "yeS4vqY7O9j-",
        "outputId": "a2295182-ef73-4d03-c06e-1a762aa7e47c"
      },
      "execution_count": 90,
      "outputs": [
        {
          "output_type": "stream",
          "name": "stderr",
          "text": [
            "<ipython-input-90-2ae79a21ee66>:1: SettingWithCopyWarning: \n",
            "A value is trying to be set on a copy of a slice from a DataFrame.\n",
            "Try using .loc[row_indexer,col_indexer] = value instead\n",
            "\n",
            "See the caveats in the documentation: https://pandas.pydata.org/pandas-docs/stable/user_guide/indexing.html#returning-a-view-versus-a-copy\n",
            "  df['begin_date'] = pd.to_datetime(df['begin_date'], format = '%Y-%m-%d %H:%M:%S')\n",
            "<ipython-input-90-2ae79a21ee66>:2: SettingWithCopyWarning: \n",
            "A value is trying to be set on a copy of a slice from a DataFrame.\n",
            "Try using .loc[row_indexer,col_indexer] = value instead\n",
            "\n",
            "See the caveats in the documentation: https://pandas.pydata.org/pandas-docs/stable/user_guide/indexing.html#returning-a-view-versus-a-copy\n",
            "  df['end_date'] = pd.to_datetime(df['end_date'], format = '%Y-%m-%d %H:%M:%S')\n"
          ]
        }
      ]
    },
    {
      "cell_type": "code",
      "source": [
        "df['shift_length_hrs'] = df.end_date - df.begin_date"
      ],
      "metadata": {
        "colab": {
          "base_uri": "https://localhost:8080/"
        },
        "id": "2sdRbY6GOnX2",
        "outputId": "9993b195-208d-4dd8-e45a-dfebdf112a70"
      },
      "execution_count": 93,
      "outputs": [
        {
          "output_type": "stream",
          "name": "stderr",
          "text": [
            "<ipython-input-93-ac448a81862a>:1: SettingWithCopyWarning: \n",
            "A value is trying to be set on a copy of a slice from a DataFrame.\n",
            "Try using .loc[row_indexer,col_indexer] = value instead\n",
            "\n",
            "See the caveats in the documentation: https://pandas.pydata.org/pandas-docs/stable/user_guide/indexing.html#returning-a-view-versus-a-copy\n",
            "  df['shift_length_hrs'] = df.end_date - df.begin_date\n"
          ]
        }
      ]
    },
    {
      "cell_type": "code",
      "source": [
        "df['shift_length_hrs'].mean()"
      ],
      "metadata": {
        "colab": {
          "base_uri": "https://localhost:8080/"
        },
        "id": "0Pwp06x7PpRF",
        "outputId": "6f22ef2a-5a01-4dcb-d519-791333d2d88c"
      },
      "execution_count": 94,
      "outputs": [
        {
          "output_type": "execute_result",
          "data": {
            "text/plain": [
              "Timedelta('0 days 08:09:58.987170830')"
            ]
          },
          "metadata": {},
          "execution_count": 94
        }
      ]
    },
    {
      "cell_type": "code",
      "source": [
        "import datetime \n",
        "dateTime1 = datetime.datetime.strptime(timeString, '%Y-%m-%d %H:%M:%S.%f')\n",
        "\n",
        "time_float = float(time.mktime(dateTime1.timetuple()))"
      ],
      "metadata": {
        "id": "57PMUdM7P63U"
      },
      "execution_count": null,
      "outputs": []
    },
    {
      "cell_type": "code",
      "source": [
        "df.groupby(['shift_length_hrs']).count().RSE_ID"
      ],
      "metadata": {
        "colab": {
          "base_uri": "https://localhost:8080/"
        },
        "id": "6ABiiQpXPsFN",
        "outputId": "bc649580-ef20-4bff-8688-a6bc3856968d"
      },
      "execution_count": 101,
      "outputs": [
        {
          "output_type": "execute_result",
          "data": {
            "text/plain": [
              "shift_length_hrs\n",
              "0 days 02:00:00      34\n",
              "0 days 02:15:00       2\n",
              "0 days 02:30:00       2\n",
              "0 days 03:00:00       2\n",
              "0 days 03:30:00       8\n",
              "0 days 03:45:00       1\n",
              "0 days 04:00:00      92\n",
              "0 days 04:30:00       6\n",
              "0 days 05:00:00       3\n",
              "0 days 05:15:00       4\n",
              "0 days 05:30:00       8\n",
              "0 days 06:00:00      26\n",
              "0 days 06:15:00       2\n",
              "0 days 06:30:00      40\n",
              "0 days 07:00:00     518\n",
              "0 days 07:01:00       3\n",
              "0 days 07:15:00       1\n",
              "0 days 07:30:00      37\n",
              "0 days 08:00:00    2176\n",
              "0 days 08:15:00       4\n",
              "0 days 08:29:00       8\n",
              "0 days 08:30:00    4035\n",
              "0 days 08:31:00      15\n",
              "0 days 08:45:00      27\n",
              "0 days 09:00:00     156\n",
              "0 days 09:05:00       2\n",
              "0 days 09:15:00      13\n",
              "0 days 09:30:00      57\n",
              "0 days 09:45:00       4\n",
              "0 days 10:00:00      55\n",
              "0 days 10:30:00      49\n",
              "0 days 10:45:00       9\n",
              "0 days 11:00:00       2\n",
              "0 days 11:15:00       4\n",
              "Name: RSE_ID, dtype: int64"
            ]
          },
          "metadata": {},
          "execution_count": 101
        }
      ]
    },
    {
      "cell_type": "markdown",
      "source": [
        "# analysis"
      ],
      "metadata": {
        "id": "GpjnRTYsNsG4"
      }
    },
    {
      "cell_type": "code",
      "source": [
        "# measuring block length\n",
        "rs = pd.DataFrame()\n",
        "rs['countShiftsQ'] = df.groupby(['RSE_ID']).count().SCE_ID\n",
        "rs['shiftsPerWeek'] = rs.countShiftsQ / 12\n",
        "rs['estHrsPerWeek'] = rs.shiftsPerWeek * 8\n",
        "rs['hrsPerWeek']  = df.groupby(['RSE_ID']).mean().hrsPerWeek\n",
        "rs['diffHrs'] = rs['hrsPerWeek'] - rs['estHrsPerWeek']\n",
        "rs"
      ],
      "metadata": {
        "colab": {
          "base_uri": "https://localhost:8080/",
          "height": 455
        },
        "id": "jmMc0hNYK1ss",
        "outputId": "a3985cc2-d69e-4329-915d-e39fdde299d8"
      },
      "execution_count": 102,
      "outputs": [
        {
          "output_type": "execute_result",
          "data": {
            "text/plain": [
              "             countShiftsQ  shiftsPerWeek  estHrsPerWeek  hrsPerWeek  \\\n",
              "RSE_ID                                                                \n",
              "661198.0               32       2.666667      21.333333        27.5   \n",
              "661265.0               23       1.916667      15.333333        26.0   \n",
              "661478.0               14       1.166667       9.333333        20.0   \n",
              "661786.0              220      18.333333     146.666667        33.6   \n",
              "665088.0                5       0.416667       3.333333        32.0   \n",
              "...                   ...            ...            ...         ...   \n",
              "683824519.0            28       2.333333      18.666667        32.0   \n",
              "685074852.0            58       4.833333      38.666667        32.0   \n",
              "686156099.0            11       0.916667       7.333333        24.0   \n",
              "686217875.0             3       0.250000       2.000000        32.0   \n",
              "686361809.0             4       0.333333       2.666667        28.0   \n",
              "\n",
              "                diffHrs  \n",
              "RSE_ID                   \n",
              "661198.0       6.166667  \n",
              "661265.0      10.666667  \n",
              "661478.0      10.666667  \n",
              "661786.0    -113.066667  \n",
              "665088.0      28.666667  \n",
              "...                 ...  \n",
              "683824519.0   13.333333  \n",
              "685074852.0   -6.666667  \n",
              "686156099.0   16.666667  \n",
              "686217875.0   30.000000  \n",
              "686361809.0   25.333333  \n",
              "\n",
              "[128 rows x 5 columns]"
            ],
            "text/html": [
              "\n",
              "  <div id=\"df-52a5ec9b-5e6c-46ab-a362-5be468695538\">\n",
              "    <div class=\"colab-df-container\">\n",
              "      <div>\n",
              "<style scoped>\n",
              "    .dataframe tbody tr th:only-of-type {\n",
              "        vertical-align: middle;\n",
              "    }\n",
              "\n",
              "    .dataframe tbody tr th {\n",
              "        vertical-align: top;\n",
              "    }\n",
              "\n",
              "    .dataframe thead th {\n",
              "        text-align: right;\n",
              "    }\n",
              "</style>\n",
              "<table border=\"1\" class=\"dataframe\">\n",
              "  <thead>\n",
              "    <tr style=\"text-align: right;\">\n",
              "      <th></th>\n",
              "      <th>countShiftsQ</th>\n",
              "      <th>shiftsPerWeek</th>\n",
              "      <th>estHrsPerWeek</th>\n",
              "      <th>hrsPerWeek</th>\n",
              "      <th>diffHrs</th>\n",
              "    </tr>\n",
              "    <tr>\n",
              "      <th>RSE_ID</th>\n",
              "      <th></th>\n",
              "      <th></th>\n",
              "      <th></th>\n",
              "      <th></th>\n",
              "      <th></th>\n",
              "    </tr>\n",
              "  </thead>\n",
              "  <tbody>\n",
              "    <tr>\n",
              "      <th>661198.0</th>\n",
              "      <td>32</td>\n",
              "      <td>2.666667</td>\n",
              "      <td>21.333333</td>\n",
              "      <td>27.5</td>\n",
              "      <td>6.166667</td>\n",
              "    </tr>\n",
              "    <tr>\n",
              "      <th>661265.0</th>\n",
              "      <td>23</td>\n",
              "      <td>1.916667</td>\n",
              "      <td>15.333333</td>\n",
              "      <td>26.0</td>\n",
              "      <td>10.666667</td>\n",
              "    </tr>\n",
              "    <tr>\n",
              "      <th>661478.0</th>\n",
              "      <td>14</td>\n",
              "      <td>1.166667</td>\n",
              "      <td>9.333333</td>\n",
              "      <td>20.0</td>\n",
              "      <td>10.666667</td>\n",
              "    </tr>\n",
              "    <tr>\n",
              "      <th>661786.0</th>\n",
              "      <td>220</td>\n",
              "      <td>18.333333</td>\n",
              "      <td>146.666667</td>\n",
              "      <td>33.6</td>\n",
              "      <td>-113.066667</td>\n",
              "    </tr>\n",
              "    <tr>\n",
              "      <th>665088.0</th>\n",
              "      <td>5</td>\n",
              "      <td>0.416667</td>\n",
              "      <td>3.333333</td>\n",
              "      <td>32.0</td>\n",
              "      <td>28.666667</td>\n",
              "    </tr>\n",
              "    <tr>\n",
              "      <th>...</th>\n",
              "      <td>...</td>\n",
              "      <td>...</td>\n",
              "      <td>...</td>\n",
              "      <td>...</td>\n",
              "      <td>...</td>\n",
              "    </tr>\n",
              "    <tr>\n",
              "      <th>683824519.0</th>\n",
              "      <td>28</td>\n",
              "      <td>2.333333</td>\n",
              "      <td>18.666667</td>\n",
              "      <td>32.0</td>\n",
              "      <td>13.333333</td>\n",
              "    </tr>\n",
              "    <tr>\n",
              "      <th>685074852.0</th>\n",
              "      <td>58</td>\n",
              "      <td>4.833333</td>\n",
              "      <td>38.666667</td>\n",
              "      <td>32.0</td>\n",
              "      <td>-6.666667</td>\n",
              "    </tr>\n",
              "    <tr>\n",
              "      <th>686156099.0</th>\n",
              "      <td>11</td>\n",
              "      <td>0.916667</td>\n",
              "      <td>7.333333</td>\n",
              "      <td>24.0</td>\n",
              "      <td>16.666667</td>\n",
              "    </tr>\n",
              "    <tr>\n",
              "      <th>686217875.0</th>\n",
              "      <td>3</td>\n",
              "      <td>0.250000</td>\n",
              "      <td>2.000000</td>\n",
              "      <td>32.0</td>\n",
              "      <td>30.000000</td>\n",
              "    </tr>\n",
              "    <tr>\n",
              "      <th>686361809.0</th>\n",
              "      <td>4</td>\n",
              "      <td>0.333333</td>\n",
              "      <td>2.666667</td>\n",
              "      <td>28.0</td>\n",
              "      <td>25.333333</td>\n",
              "    </tr>\n",
              "  </tbody>\n",
              "</table>\n",
              "<p>128 rows × 5 columns</p>\n",
              "</div>\n",
              "      <button class=\"colab-df-convert\" onclick=\"convertToInteractive('df-52a5ec9b-5e6c-46ab-a362-5be468695538')\"\n",
              "              title=\"Convert this dataframe to an interactive table.\"\n",
              "              style=\"display:none;\">\n",
              "        \n",
              "  <svg xmlns=\"http://www.w3.org/2000/svg\" height=\"24px\"viewBox=\"0 0 24 24\"\n",
              "       width=\"24px\">\n",
              "    <path d=\"M0 0h24v24H0V0z\" fill=\"none\"/>\n",
              "    <path d=\"M18.56 5.44l.94 2.06.94-2.06 2.06-.94-2.06-.94-.94-2.06-.94 2.06-2.06.94zm-11 1L8.5 8.5l.94-2.06 2.06-.94-2.06-.94L8.5 2.5l-.94 2.06-2.06.94zm10 10l.94 2.06.94-2.06 2.06-.94-2.06-.94-.94-2.06-.94 2.06-2.06.94z\"/><path d=\"M17.41 7.96l-1.37-1.37c-.4-.4-.92-.59-1.43-.59-.52 0-1.04.2-1.43.59L10.3 9.45l-7.72 7.72c-.78.78-.78 2.05 0 2.83L4 21.41c.39.39.9.59 1.41.59.51 0 1.02-.2 1.41-.59l7.78-7.78 2.81-2.81c.8-.78.8-2.07 0-2.86zM5.41 20L4 18.59l7.72-7.72 1.47 1.35L5.41 20z\"/>\n",
              "  </svg>\n",
              "      </button>\n",
              "      \n",
              "  <style>\n",
              "    .colab-df-container {\n",
              "      display:flex;\n",
              "      flex-wrap:wrap;\n",
              "      gap: 12px;\n",
              "    }\n",
              "\n",
              "    .colab-df-convert {\n",
              "      background-color: #E8F0FE;\n",
              "      border: none;\n",
              "      border-radius: 50%;\n",
              "      cursor: pointer;\n",
              "      display: none;\n",
              "      fill: #1967D2;\n",
              "      height: 32px;\n",
              "      padding: 0 0 0 0;\n",
              "      width: 32px;\n",
              "    }\n",
              "\n",
              "    .colab-df-convert:hover {\n",
              "      background-color: #E2EBFA;\n",
              "      box-shadow: 0px 1px 2px rgba(60, 64, 67, 0.3), 0px 1px 3px 1px rgba(60, 64, 67, 0.15);\n",
              "      fill: #174EA6;\n",
              "    }\n",
              "\n",
              "    [theme=dark] .colab-df-convert {\n",
              "      background-color: #3B4455;\n",
              "      fill: #D2E3FC;\n",
              "    }\n",
              "\n",
              "    [theme=dark] .colab-df-convert:hover {\n",
              "      background-color: #434B5C;\n",
              "      box-shadow: 0px 1px 3px 1px rgba(0, 0, 0, 0.15);\n",
              "      filter: drop-shadow(0px 1px 2px rgba(0, 0, 0, 0.3));\n",
              "      fill: #FFFFFF;\n",
              "    }\n",
              "  </style>\n",
              "\n",
              "      <script>\n",
              "        const buttonEl =\n",
              "          document.querySelector('#df-52a5ec9b-5e6c-46ab-a362-5be468695538 button.colab-df-convert');\n",
              "        buttonEl.style.display =\n",
              "          google.colab.kernel.accessAllowed ? 'block' : 'none';\n",
              "\n",
              "        async function convertToInteractive(key) {\n",
              "          const element = document.querySelector('#df-52a5ec9b-5e6c-46ab-a362-5be468695538');\n",
              "          const dataTable =\n",
              "            await google.colab.kernel.invokeFunction('convertToInteractive',\n",
              "                                                     [key], {});\n",
              "          if (!dataTable) return;\n",
              "\n",
              "          const docLinkHtml = 'Like what you see? Visit the ' +\n",
              "            '<a target=\"_blank\" href=https://colab.research.google.com/notebooks/data_table.ipynb>data table notebook</a>'\n",
              "            + ' to learn more about interactive tables.';\n",
              "          element.innerHTML = '';\n",
              "          dataTable['output_type'] = 'display_data';\n",
              "          await google.colab.output.renderOutput(dataTable, element);\n",
              "          const docLink = document.createElement('div');\n",
              "          docLink.innerHTML = docLinkHtml;\n",
              "          element.appendChild(docLink);\n",
              "        }\n",
              "      </script>\n",
              "    </div>\n",
              "  </div>\n",
              "  "
            ]
          },
          "metadata": {},
          "execution_count": 102
        }
      ]
    },
    {
      "cell_type": "code",
      "source": [
        "(rs.hrsPerWeek.sum() - rs.estHrsPerWeek.sum() ) / 12"
      ],
      "metadata": {
        "colab": {
          "base_uri": "https://localhost:8080/"
        },
        "id": "Z35q9aCDRkWh",
        "outputId": "e2dcf9c4-65e4-4fdd-c4cc-1219ddd0d4bb"
      },
      "execution_count": 111,
      "outputs": [
        {
          "output_type": "execute_result",
          "data": {
            "text/plain": [
              "-110.46130050505069"
            ]
          },
          "metadata": {},
          "execution_count": 111
        }
      ]
    },
    {
      "cell_type": "code",
      "source": [
        "rs.diffHrs.plot()"
      ],
      "metadata": {
        "colab": {
          "base_uri": "https://localhost:8080/",
          "height": 466
        },
        "id": "pyxGMHYIN5-o",
        "outputId": "5720357f-3b9a-4140-d3d1-ae77c2d54fcc"
      },
      "execution_count": 103,
      "outputs": [
        {
          "output_type": "execute_result",
          "data": {
            "text/plain": [
              "<Axes: xlabel='RSE_ID'>"
            ]
          },
          "metadata": {},
          "execution_count": 103
        },
        {
          "output_type": "display_data",
          "data": {
            "text/plain": [
              "<Figure size 640x480 with 1 Axes>"
            ],
            "image/png": "[encoded data removed]"
          },
          "metadata": {}
        }
      ]
    },
    {
      "cell_type": "code",
      "source": [
        "df[df['RSE_ID'] == 661786].shift_length_hrs.sum()/12 # 220 shifts in 1Q ??"
      ],
      "metadata": {
        "colab": {
          "base_uri": "https://localhost:8080/"
        },
        "id": "2ILDqy-2Q0fy",
        "outputId": "145afdc1-12cf-42b8-b880-7f9f89a368ab"
      },
      "execution_count": 107,
      "outputs": [
        {
          "output_type": "execute_result",
          "data": {
            "text/plain": [
              "Timedelta('5 days 23:20:00')"
            ]
          },
          "metadata": {},
          "execution_count": 107
        }
      ]
    },
    {
      "cell_type": "code",
      "source": [],
      "metadata": {
        "id": "4XNGwBckQ9ry"
      },
      "execution_count": null,
      "outputs": []
    }
  ]
}